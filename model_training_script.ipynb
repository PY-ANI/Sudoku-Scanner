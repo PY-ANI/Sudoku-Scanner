{
  "nbformat": 4,
  "nbformat_minor": 0,
  "metadata": {
    "colab": {
      "provenance": [],
      "authorship_tag": "ABX9TyOYGDmp5ml1xDWaawjwPNUS",
      "include_colab_link": true
    },
    "kernelspec": {
      "name": "python3",
      "display_name": "Python 3"
    },
    "language_info": {
      "name": "python"
    }
  },
  "cells": [
    {
      "cell_type": "markdown",
      "metadata": {
        "id": "view-in-github",
        "colab_type": "text"
      },
      "source": [
        "<a href=\"https://colab.research.google.com/github/PY-ANI/Sudoku-Scanner/blob/main/my_own_obj_detection.ipynb\" target=\"_parent\"><img src=\"https://colab.research.google.com/assets/colab-badge.svg\" alt=\"Open In Colab\"/></a>"
      ]
    },
    {
      "cell_type": "code",
      "execution_count": null,
      "metadata": {
        "id": "v2hj1d33lAn8"
      },
      "outputs": [],
      "source": [
        "import numpy as np\n",
        "import cv2\n",
        "from keras.datasets import mnist\n",
        "from keras.models import Sequential,load_model\n",
        "from keras.layers import Dense\n",
        "from keras.layers import Dropout\n",
        "from keras.layers import Flatten\n",
        "from keras.layers.convolutional import Conv2D\n",
        "from keras.layers.convolutional import MaxPooling2D\n",
        "from keras.utils import np_utils\n",
        "from keras import backend as K\n",
        "import matplotlib.pyplot as plt\n",
        "import pandas as pd\n",
        "from keras.utils import np_utils"
      ]
    },
    {
      "cell_type": "code",
      "source": [
        "from google.colab import drive\n",
        "drive.mount('/content/drive')"
      ],
      "metadata": {
        "id": "6rTRTqlfP38o"
      },
      "execution_count": null,
      "outputs": []
    },
    {
      "cell_type": "code",
      "source": [
        "(x_train, y_train), (x_test, y_test) = mnist.load_data()"
      ],
      "metadata": {
        "id": "T2eSW2ZtgirM"
      },
      "execution_count": null,
      "outputs": []
    },
    {
      "cell_type": "code",
      "source": [
        "x_train[0,0].dtype"
      ],
      "metadata": {
        "colab": {
          "base_uri": "https://localhost:8080/"
        },
        "id": "Y44kKynQdpb5",
        "outputId": "08afe81b-4563-466d-cf67-3b3c6112e979"
      },
      "execution_count": null,
      "outputs": [
        {
          "output_type": "execute_result",
          "data": {
            "text/plain": [
              "dtype('float64')"
            ]
          },
          "metadata": {},
          "execution_count": 106
        }
      ]
    },
    {
      "cell_type": "code",
      "source": [
        "# X_train[0]/255\n",
        "x_train = x_train.reshape(len(x_train),28*28)/255\n",
        "x_test = x_test.reshape(len(x_test),28*28)/255"
      ],
      "metadata": {
        "id": "P7axlztfhePS"
      },
      "execution_count": null,
      "outputs": []
    },
    {
      "cell_type": "code",
      "source": [
        "y_test.shape\n",
        "np_utils.to_categorical(y_test)[0]"
      ],
      "metadata": {
        "colab": {
          "base_uri": "https://localhost:8080/"
        },
        "id": "5zx01JfeiVDr",
        "outputId": "917488e8-03ac-4f8f-d71f-2a1d28812b06"
      },
      "execution_count": null,
      "outputs": [
        {
          "output_type": "execute_result",
          "data": {
            "text/plain": [
              "array([0., 0., 0., 0., 0., 0., 0., 1., 0., 0.], dtype=float32)"
            ]
          },
          "metadata": {},
          "execution_count": 164
        }
      ]
    },
    {
      "cell_type": "code",
      "source": [
        "data = pd.read_csv(\"/content/data_sheet.csv\",header=None,delimiter=',')\n",
        "data = data.dropna().to_numpy()\n",
        "data.shape"
      ],
      "metadata": {
        "id": "K-95gzDsfaHK",
        "colab": {
          "base_uri": "https://localhost:8080/"
        },
        "outputId": "dd03b91d-c2f7-4f82-d9e3-b74024151a7b"
      },
      "execution_count": null,
      "outputs": [
        {
          "output_type": "execute_result",
          "data": {
            "text/plain": [
              "(1617, 901)"
            ]
          },
          "metadata": {},
          "execution_count": 2
        }
      ]
    },
    {
      "cell_type": "code",
      "source": [
        "pixel = data[:,1:]\n",
        "# pixel = pixel.reshape(1617,30,30,1)"
      ],
      "metadata": {
        "id": "9kg-1clZWZzJ"
      },
      "execution_count": null,
      "outputs": []
    },
    {
      "cell_type": "code",
      "source": [
        "label = data[:,0].astype(np.uint8)\n",
        "label.shape"
      ],
      "metadata": {
        "colab": {
          "base_uri": "https://localhost:8080/"
        },
        "id": "5P0wieqBfZ_P",
        "outputId": "deac63d7-3a96-43db-a29a-076ea1de94b2"
      },
      "execution_count": null,
      "outputs": [
        {
          "output_type": "execute_result",
          "data": {
            "text/plain": [
              "(1617,)"
            ]
          },
          "metadata": {},
          "execution_count": 4
        }
      ]
    },
    {
      "cell_type": "code",
      "source": [
        "label = np_utils.to_categorical(label)\n",
        "# label[0,0]"
      ],
      "metadata": {
        "id": "F8g8LgqQGIR1"
      },
      "execution_count": null,
      "outputs": []
    },
    {
      "cell_type": "code",
      "source": [
        "pixel = pixel/255"
      ],
      "metadata": {
        "id": "Vzs9q3yNDO_C"
      },
      "execution_count": null,
      "outputs": []
    },
    {
      "cell_type": "code",
      "source": [
        "t = pixel[0].reshape(30,30)\n",
        "plt.matshow(t)"
      ],
      "metadata": {
        "colab": {
          "base_uri": "https://localhost:8080/",
          "height": 454
        },
        "id": "l85vh_DpbGS6",
        "outputId": "ae17a120-b124-438d-d002-bcd219b96b7a"
      },
      "execution_count": null,
      "outputs": [
        {
          "output_type": "execute_result",
          "data": {
            "text/plain": [
              "<matplotlib.image.AxesImage at 0x7fbb0c0a3370>"
            ]
          },
          "metadata": {},
          "execution_count": 6
        },
        {
          "output_type": "display_data",
          "data": {
            "text/plain": [
              "<Figure size 480x480 with 1 Axes>"
            ],
            "image/png": "[encoded data removed]"
          },
          "metadata": {}
        }
      ]
    },
    {
      "cell_type": "code",
      "source": [
        "pixel = np.concatenate((pixel,X_train))\n",
        "label = np.concatenate((label,y_train))"
      ],
      "metadata": {
        "id": "BmQE2GDQzsLZ"
      },
      "execution_count": null,
      "outputs": []
    },
    {
      "cell_type": "code",
      "source": [
        "model = Sequential()\n",
        "model.add(Dense(10, input_shape=(900,), activation='sigmoid'))\n",
        "\n",
        "model.compile(loss='sparse_categorical_crossentropy', optimizer='adam', metrics=['accuracy'])"
      ],
      "metadata": {
        "id": "kJe8wktQhq0H"
      },
      "execution_count": null,
      "outputs": []
    },
    {
      "cell_type": "code",
      "source": [
        "model = Sequential()\n",
        "model.add(Conv2D(32, (5, 5), input_shape=(30, 30, 1), activation='relu'))\n",
        "model.add(MaxPooling2D(pool_size=(2, 2)))\n",
        "model.add(Conv2D(16, (3, 3), activation='relu'))\n",
        "model.add(MaxPooling2D(pool_size=(2, 2)))\n",
        "model.add(Dropout(0.2))\n",
        "model.add(Flatten())\n",
        "model.add(Dense(128, activation='relu'))\n",
        "model.add(Dense(64, activation='relu'))\n",
        "model.add(Dense(10, activation='softmax'))\n",
        "\n",
        "model.compile(loss='categorical_crossentropy', optimizer='adam', metrics=['accuracy'])"
      ],
      "metadata": {
        "id": "dqiECaLvEgk7"
      },
      "execution_count": null,
      "outputs": []
    },
    {
      "cell_type": "code",
      "source": [
        "model.fit(pixel, label,validation_data=(pixel,label),epochs=10, batch_size=200)"
      ],
      "metadata": {
        "id": "fSSMkOW1FRCX",
        "colab": {
          "base_uri": "https://localhost:8080/"
        },
        "outputId": "94bca689-9fd0-4420-f37b-15de27bb4345"
      },
      "execution_count": null,
      "outputs": [
        {
          "output_type": "stream",
          "name": "stdout",
          "text": [
            "Epoch 1/10\n",
            "9/9 [==============================] - 0s 50ms/step - loss: 0.0835 - accuracy: 0.9988 - val_loss: 0.0774 - val_accuracy: 0.9988\n",
            "Epoch 2/10\n",
            "9/9 [==============================] - 0s 21ms/step - loss: 0.0750 - accuracy: 0.9988 - val_loss: 0.0694 - val_accuracy: 0.9988\n",
            "Epoch 3/10\n",
            "9/9 [==============================] - 0s 17ms/step - loss: 0.0680 - accuracy: 0.9988 - val_loss: 0.0632 - val_accuracy: 0.9988\n",
            "Epoch 4/10\n",
            "9/9 [==============================] - 0s 13ms/step - loss: 0.0609 - accuracy: 0.9988 - val_loss: 0.0577 - val_accuracy: 0.9988\n",
            "Epoch 5/10\n",
            "9/9 [==============================] - 0s 13ms/step - loss: 0.0556 - accuracy: 0.9988 - val_loss: 0.0523 - val_accuracy: 0.9988\n",
            "Epoch 6/10\n",
            "9/9 [==============================] - 0s 17ms/step - loss: 0.0510 - accuracy: 0.9988 - val_loss: 0.0485 - val_accuracy: 0.9988\n",
            "Epoch 7/10\n",
            "9/9 [==============================] - 0s 12ms/step - loss: 0.0472 - accuracy: 0.9988 - val_loss: 0.0451 - val_accuracy: 0.9988\n",
            "Epoch 8/10\n",
            "9/9 [==============================] - 0s 16ms/step - loss: 0.0443 - accuracy: 0.9988 - val_loss: 0.0420 - val_accuracy: 0.9988\n",
            "Epoch 9/10\n",
            "9/9 [==============================] - 0s 19ms/step - loss: 0.0416 - accuracy: 0.9988 - val_loss: 0.0395 - val_accuracy: 0.9988\n",
            "Epoch 10/10\n",
            "9/9 [==============================] - 0s 15ms/step - loss: 0.0399 - accuracy: 0.9988 - val_loss: 0.0377 - val_accuracy: 0.9988\n"
          ]
        },
        {
          "output_type": "execute_result",
          "data": {
            "text/plain": [
              "<keras.callbacks.History at 0x7fbaf6e67f40>"
            ]
          },
          "metadata": {},
          "execution_count": 20
        }
      ]
    },
    {
      "cell_type": "code",
      "source": [
        "model.input_shape"
      ],
      "metadata": {
        "colab": {
          "base_uri": "https://localhost:8080/"
        },
        "id": "XN5xu1kyrnNl",
        "outputId": "da4fc798-278c-446f-9147-00d493a56b75"
      },
      "execution_count": null,
      "outputs": [
        {
          "output_type": "execute_result",
          "data": {
            "text/plain": [
              "(None, 900)"
            ]
          },
          "metadata": {},
          "execution_count": 9
        }
      ]
    },
    {
      "cell_type": "code",
      "source": [
        "model.fit(pixel,label, epochs=5)"
      ],
      "metadata": {
        "id": "hHhnJ_PYmXtr",
        "colab": {
          "base_uri": "https://localhost:8080/"
        },
        "outputId": "2f11894d-9f8c-4807-facb-8a894b100dfa"
      },
      "execution_count": null,
      "outputs": [
        {
          "output_type": "stream",
          "name": "stdout",
          "text": [
            "Epoch 1/5\n",
            "51/51 [==============================] - 0s 3ms/step - loss: 0.8259 - accuracy: 0.0000e+00\n",
            "Epoch 2/5\n",
            "51/51 [==============================] - 0s 3ms/step - loss: 0.1220 - accuracy: 0.0000e+00\n",
            "Epoch 3/5\n",
            "51/51 [==============================] - 0s 3ms/step - loss: 0.0603 - accuracy: 0.0000e+00\n",
            "Epoch 4/5\n",
            "51/51 [==============================] - 0s 3ms/step - loss: 0.0413 - accuracy: 0.0000e+00\n",
            "Epoch 5/5\n",
            "51/51 [==============================] - 0s 3ms/step - loss: 0.0314 - accuracy: 0.0000e+00\n"
          ]
        },
        {
          "output_type": "execute_result",
          "data": {
            "text/plain": [
              "<keras.callbacks.History at 0x7f340e8f04c0>"
            ]
          },
          "metadata": {},
          "execution_count": 56
        }
      ]
    },
    {
      "cell_type": "code",
      "source": [
        "pre = model.predict(pixel)"
      ],
      "metadata": {
        "colab": {
          "base_uri": "https://localhost:8080/"
        },
        "id": "nFRnF2PWr6Lv",
        "outputId": "e9f4e384-6d66-4120-d6df-ba7879e43bf0"
      },
      "execution_count": null,
      "outputs": [
        {
          "output_type": "stream",
          "name": "stdout",
          "text": [
            "51/51 [==============================] - 0s 1ms/step\n"
          ]
        }
      ]
    },
    {
      "cell_type": "code",
      "source": [
        "model.save(\"basic_model\",save_format=\"h5\")"
      ],
      "metadata": {
        "id": "384xDS2qs4IK"
      },
      "execution_count": null,
      "outputs": []
    },
    {
      "cell_type": "code",
      "source": [
        "mdl = load_model(\"basic_model\")"
      ],
      "metadata": {
        "id": "F9wnbpG122Fj"
      },
      "execution_count": null,
      "outputs": []
    },
    {
      "cell_type": "code",
      "source": [
        "model.summary()"
      ],
      "metadata": {
        "id": "9cRVSUdH34se"
      },
      "execution_count": null,
      "outputs": []
    },
    {
      "cell_type": "code",
      "source": [
        "pred = mdl.predict(pixel[:10])"
      ],
      "metadata": {
        "id": "CwQlLZod4B1b",
        "colab": {
          "base_uri": "https://localhost:8080/"
        },
        "outputId": "20e33ec0-6ebc-47d3-bc7e-f8ad95ed1d72"
      },
      "execution_count": null,
      "outputs": [
        {
          "output_type": "stream",
          "name": "stdout",
          "text": [
            "1/1 [==============================] - 0s 57ms/step\n"
          ]
        }
      ]
    },
    {
      "cell_type": "code",
      "source": [
        "np.argmax(pred[0])"
      ],
      "metadata": {
        "colab": {
          "base_uri": "https://localhost:8080/"
        },
        "id": "iDaE3snT4VP3",
        "outputId": "1642e18f-c4c2-41db-e7bd-c1282c6427f2"
      },
      "execution_count": null,
      "outputs": [
        {
          "output_type": "execute_result",
          "data": {
            "text/plain": [
              "8"
            ]
          },
          "metadata": {},
          "execution_count": 33
        }
      ]
    },
    {
      "cell_type": "code",
      "source": [
        "label[0]"
      ],
      "metadata": {
        "colab": {
          "base_uri": "https://localhost:8080/"
        },
        "id": "YIe3mcWdEWMH",
        "outputId": "1b0aabe8-55dd-4115-b65a-1d11ed5e59f0"
      },
      "execution_count": null,
      "outputs": [
        {
          "output_type": "execute_result",
          "data": {
            "text/plain": [
              "8"
            ]
          },
          "metadata": {},
          "execution_count": 34
        }
      ]
    },
    {
      "cell_type": "code",
      "source": [
        "arr = []\n",
        "r,w=0,0\n",
        "for i in range(len(pre)):\n",
        "  if label[i] == np.argmax(pre[i]):r+=1\n",
        "  else: w+=1;print(i,label[i],np.argmax(pre[i]));arr.append(pixel[i].reshape((30,30)))\n",
        "\n",
        "print(r,w)"
      ],
      "metadata": {
        "colab": {
          "base_uri": "https://localhost:8080/"
        },
        "id": "IjIdtXqNIg1G",
        "outputId": "3712f5bf-1097-4f08-e791-6b2e99b06043"
      },
      "execution_count": null,
      "outputs": [
        {
          "output_type": "stream",
          "name": "stdout",
          "text": [
            "112 2 1\n",
            "113 3 2\n",
            "1615 2\n"
          ]
        }
      ]
    },
    {
      "cell_type": "code",
      "source": [
        "plt.matshow(arr[1])"
      ],
      "metadata": {
        "id": "U3bHcAaFi4yR",
        "colab": {
          "base_uri": "https://localhost:8080/",
          "height": 454
        },
        "outputId": "8125691b-3a5d-4a5f-de34-e771d57b7ad1"
      },
      "execution_count": null,
      "outputs": [
        {
          "output_type": "execute_result",
          "data": {
            "text/plain": [
              "<matplotlib.image.AxesImage at 0x7fbaf77796c0>"
            ]
          },
          "metadata": {},
          "execution_count": 29
        },
        {
          "output_type": "display_data",
          "data": {
            "text/plain": [
              "<Figure size 480x480 with 1 Axes>"
            ],
            "image/png": "[encoded data removed]"
          },
          "metadata": {}
        }
      ]
    },
    {
      "cell_type": "code",
      "source": [
        "y_test[0]"
      ],
      "metadata": {
        "colab": {
          "base_uri": "https://localhost:8080/"
        },
        "id": "_wo22gKXiXq3",
        "outputId": "d9ec5261-9155-45a8-bc73-64f21bb6fcd3"
      },
      "execution_count": null,
      "outputs": [
        {
          "output_type": "execute_result",
          "data": {
            "text/plain": [
              "7"
            ]
          },
          "metadata": {},
          "execution_count": 126
        }
      ]
    },
    {
      "cell_type": "code",
      "source": [
        "np.argmax(pre[0])"
      ],
      "metadata": {
        "colab": {
          "base_uri": "https://localhost:8080/"
        },
        "id": "hX7urTrFs5wL",
        "outputId": "0c362fdf-38c0-4f83-bbb1-ebae0eefdb55"
      },
      "execution_count": null,
      "outputs": [
        {
          "output_type": "execute_result",
          "data": {
            "text/plain": [
              "7"
            ]
          },
          "metadata": {},
          "execution_count": 68
        }
      ]
    },
    {
      "cell_type": "code",
      "source": [
        "px = [[  0,   0,   0,   0,   0,   0,   0,   0,   0,   0,   0,   0,   0,   0,   0,   0,   0,   0,\n",
        "    0,   0,   0,   0,   0,   0,   0,   0,   0,   0,],\n",
        " [  0,   0,   0,   0,   0,   0,   0,   0,   0,   0,   0,   0,   0,   0,   0,   0,   0,   0,\n",
        "    0,   0,   0,   0,   0,   0,   0,   0,   0,   0,],\n",
        " [  0,   0,   0,   0,   0,   0,   0,   0,   0,   0,   0,   0,   0,   0,   0,   0,   0,   0,\n",
        "    0,   0,   0,   0,   0,   0,   0,   0,   0,   0,],\n",
        " [255, 255, 255, 255, 255, 255, 255, 255, 255, 255, 255, 255, 255, 255, 255, 255, 255, 255,\n",
        "  255, 255, 255, 255, 255, 255, 255, 255, 255, 255,],\n",
        " [255, 255, 255, 255, 255, 255, 255, 255, 255, 255, 255, 255, 255, 255, 255, 255, 255, 255,\n",
        "  255, 255, 255, 255, 255, 255, 255, 255, 255, 255,],\n",
        " [255, 255, 255, 255, 255, 255, 255, 255, 255, 255, 255, 255, 255, 255, 255, 255, 255, 255,\n",
        "  255, 255, 255, 255, 255, 255, 255, 255, 255, 255,],\n",
        " [255, 255, 255, 255, 255, 255, 255, 255, 255, 255, 255,   0, 255, 255, 255, 255, 255, 255,\n",
        "  255, 255, 255, 255, 255, 255, 255, 255, 255, 255,],\n",
        " [255, 255, 255, 255, 255, 255, 255, 255, 255, 255,   0,   0,   0, 255, 255, 255, 255, 255,\n",
        "  255, 255, 255, 255, 255, 255, 255, 255, 255, 255,],\n",
        " [255, 255, 255, 255, 255, 255, 255, 255, 255,   0,   0,   0,   0,   0, 255, 255, 255, 255,\n",
        "  255, 255, 255, 255, 255, 255, 255, 255, 255, 255,],\n",
        " [255, 255, 255, 255, 255, 255, 255, 255,   0,   0,   0,   0,   0,   0, 255, 255, 255, 255,\n",
        "  255, 255, 255, 255, 255, 255, 255, 255, 255, 255,],\n",
        " [255, 255, 255, 255, 255, 255, 255,   0,   0,   0,   0,   0,   0,   0, 255, 255, 255, 255,\n",
        "  255, 255, 255, 255, 255, 255, 255, 255, 255, 255,],\n",
        " [255, 255, 255, 255, 255, 255, 255,   0,   0,   0,   0,   0,   0,   0, 255, 255, 255, 255,\n",
        "  255, 255, 255, 255, 255, 255, 255, 255, 255, 255,],\n",
        " [255, 255, 255, 255, 255, 255, 255, 255,   0, 255,   0,   0,   0,   0, 255, 255, 255, 255,\n",
        "  255, 255, 255, 255, 255, 255, 255, 255, 255, 255,],\n",
        " [255, 255, 255, 255, 255, 255, 255, 255, 255, 255,   0,   0,   0,   0, 255, 255, 255, 255,\n",
        "  255, 255, 255, 255, 255, 255, 255, 255, 255, 255,],\n",
        " [255, 255, 255, 255, 255, 255, 255, 255, 255, 255,   0,   0,   0,   0, 255, 255, 255, 255,\n",
        "  255, 255, 255, 255, 255, 255, 255, 255, 255, 255,],\n",
        " [255, 255, 255, 255, 255, 255, 255, 255, 255, 255,   0,   0,   0,   0, 255, 255, 255, 255,\n",
        "  255, 255, 255, 255, 255, 255, 255, 255, 255, 255,],\n",
        " [255, 255, 255, 255, 255, 255, 255, 255, 255, 255,   0,   0,   0,   0, 255, 255, 255, 255,\n",
        "  255, 255, 255, 255, 255, 255, 255, 255, 255, 255,],\n",
        " [255, 255, 255, 255, 255, 255, 255, 255, 255, 255,   0,   0,   0,   0, 255, 255, 255, 255,\n",
        "  255, 255, 255, 255, 255, 255, 255, 255, 255, 255,],\n",
        " [255, 255, 255, 255, 255, 255, 255, 255, 255, 255,   0,   0,   0,   0, 255, 255, 255, 255,\n",
        "  255, 255, 255, 255, 255, 255, 255, 255, 255, 255,],\n",
        " [255, 255, 255, 255, 255, 255, 255, 255, 255, 255,   0,   0,   0,   0, 255, 255, 255, 255,\n",
        "  255, 255, 255, 255, 255, 255, 255, 255, 255, 255,],\n",
        " [255, 255, 255, 255, 255, 255, 255, 255, 255, 255,   0,   0,   0,   0, 255, 255, 255, 255,\n",
        "  255, 255, 255, 255, 255, 255, 255, 255, 255, 255,],\n",
        " [255, 255, 255, 255, 255, 255, 255, 255, 255, 255, 255,   0,   0, 255, 255, 255, 255, 255,\n",
        "  255, 255, 255, 255, 255, 255, 255, 255, 255, 255,],\n",
        " [255, 255, 255, 255, 255, 255, 255, 255, 255, 255, 255, 255, 255, 255, 255, 255, 255, 255,\n",
        "  255, 255, 255, 255, 255, 255, 255, 255, 255, 255,],\n",
        " [255, 255, 255, 255, 255, 255, 255, 255, 255, 255, 255, 255, 255, 255, 255, 255, 255, 255,\n",
        "  255, 255, 255, 255, 255, 255, 255, 255, 255, 255,],\n",
        " [255, 255, 255, 255, 255, 255, 255, 255, 255, 255, 255, 255, 255, 255, 255, 255, 255, 255,\n",
        "  255, 255, 255, 255, 255, 255, 255, 255, 255, 255,],\n",
        " [255, 255, 255, 255, 255, 255, 255, 255, 255, 255, 255, 255, 255, 255, 255, 255, 255, 255,\n",
        "  255, 255, 255, 255, 255, 255, 255, 255, 255, 255,],\n",
        " [255, 255, 255, 255, 255, 255, 255, 255, 255, 255, 255, 255, 255, 255, 255, 255, 255, 255,\n",
        "  255, 255, 255, 255, 255, 255, 255, 255, 255, 255,],\n",
        " [255, 255, 255, 255, 255, 255, 255, 255, 255, 255, 255, 255, 255, 255, 255, 255, 255, 255,\n",
        "  255, 255, 255, 255, 255, 255, 255, 255, 255, 255,],]\n",
        "px = (255-np.array(px))/255\n",
        "px = np.array([px.flatten()])"
      ],
      "metadata": {
        "id": "lHTA8qTt_ueV"
      },
      "execution_count": null,
      "outputs": []
    },
    {
      "cell_type": "code",
      "source": [
        "px.shape"
      ],
      "metadata": {
        "colab": {
          "base_uri": "https://localhost:8080/"
        },
        "id": "p6yt8RpmAqcm",
        "outputId": "ccb8c7c3-6a50-43f9-e7cf-025ff80b3a98"
      },
      "execution_count": null,
      "outputs": [
        {
          "output_type": "execute_result",
          "data": {
            "text/plain": [
              "(1, 784)"
            ]
          },
          "metadata": {},
          "execution_count": 62
        }
      ]
    },
    {
      "cell_type": "code",
      "source": [
        "model.input_shape"
      ],
      "metadata": {
        "colab": {
          "base_uri": "https://localhost:8080/"
        },
        "id": "l7nBIKzMBh0w",
        "outputId": "758d836b-e49b-43fe-b70c-c8a29601b501"
      },
      "execution_count": null,
      "outputs": [
        {
          "output_type": "execute_result",
          "data": {
            "text/plain": [
              "(None, 784)"
            ]
          },
          "metadata": {},
          "execution_count": 63
        }
      ]
    },
    {
      "cell_type": "code",
      "source": [
        "p = model.predict(px)"
      ],
      "metadata": {
        "colab": {
          "base_uri": "https://localhost:8080/"
        },
        "id": "BC3mgf50A_7Y",
        "outputId": "73d8e613-7191-4174-ef6c-c25daa8acd39"
      },
      "execution_count": null,
      "outputs": [
        {
          "output_type": "stream",
          "name": "stdout",
          "text": [
            "1/1 [==============================] - 0s 26ms/step\n"
          ]
        }
      ]
    },
    {
      "cell_type": "code",
      "source": [
        "np.argmax(p)"
      ],
      "metadata": {
        "colab": {
          "base_uri": "https://localhost:8080/"
        },
        "id": "apIOKxcSBEov",
        "outputId": "3778f53a-8b5e-416a-d463-02aec932f6d8"
      },
      "execution_count": null,
      "outputs": [
        {
          "output_type": "execute_result",
          "data": {
            "text/plain": [
              "6"
            ]
          },
          "metadata": {},
          "execution_count": 65
        }
      ]
    }
  ]
}
